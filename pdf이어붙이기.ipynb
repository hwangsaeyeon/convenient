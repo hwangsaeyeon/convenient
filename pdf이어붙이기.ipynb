{
  "nbformat": 4,
  "nbformat_minor": 0,
  "metadata": {
    "colab": {
      "provenance": [],
      "mount_file_id": "19z3ON0qP337DP5nj8_EDpxfJq_IJAlNP",
      "authorship_tag": "ABX9TyMzsm0u3QyL4oFnUDWSA93Q",
      "include_colab_link": true
    },
    "kernelspec": {
      "name": "python3",
      "display_name": "Python 3"
    },
    "language_info": {
      "name": "python"
    }
  },
  "cells": [
    {
      "cell_type": "markdown",
      "metadata": {
        "id": "view-in-github",
        "colab_type": "text"
      },
      "source": [
        "<a href=\"https://colab.research.google.com/github/hwangsaeyeon/convenient/blob/main/pdf%EC%9D%B4%EC%96%B4%EB%B6%99%EC%9D%B4%EA%B8%B0.ipynb\" target=\"_parent\"><img src=\"https://colab.research.google.com/assets/colab-badge.svg\" alt=\"Open In Colab\"/></a>"
      ]
    },
    {
      "cell_type": "code",
      "source": [
        "from google.colab import drive\n",
        "drive.mount('./content/')"
      ],
      "metadata": {
        "colab": {
          "base_uri": "https://localhost:8080/"
        },
        "id": "vuVq64_ooWlX",
        "outputId": "00bae2b8-46f0-4bd2-87e4-3d6155beee18"
      },
      "execution_count": null,
      "outputs": [
        {
          "output_type": "stream",
          "name": "stdout",
          "text": [
            "Mounted at ./content/\n"
          ]
        }
      ]
    },
    {
      "cell_type": "code",
      "source": [
        "!pip install PyPDF2"
      ],
      "metadata": {
        "colab": {
          "base_uri": "https://localhost:8080/"
        },
        "id": "cwc0DtWojznU",
        "outputId": "27a8c260-bffd-429a-fdb5-af3b7201c7df"
      },
      "execution_count": null,
      "outputs": [
        {
          "output_type": "stream",
          "name": "stdout",
          "text": [
            "Looking in indexes: https://pypi.org/simple, https://us-python.pkg.dev/colab-wheels/public/simple/\n",
            "Collecting PyPDF2\n",
            "  Downloading PyPDF2-2.10.5-py3-none-any.whl (216 kB)\n",
            "\u001b[K     |████████████████████████████████| 216 kB 5.3 MB/s \n",
            "\u001b[?25hRequirement already satisfied: typing-extensions>=3.10.0.0 in /usr/local/lib/python3.7/dist-packages (from PyPDF2) (4.1.1)\n",
            "Installing collected packages: PyPDF2\n",
            "Successfully installed PyPDF2-2.10.5\n"
          ]
        }
      ]
    },
    {
      "cell_type": "code",
      "execution_count": null,
      "metadata": {
        "id": "U5BbT-KnjtAn",
        "colab": {
          "base_uri": "https://localhost:8080/"
        },
        "outputId": "d392f1eb-06ae-462b-fb36-c808c2e12c37"
      },
      "outputs": [
        {
          "output_type": "stream",
          "name": "stdout",
          "text": [
            "/content/drive/MyDrive/3-2/기계학습\n"
          ]
        }
      ],
      "source": [
        "from PyPDF2 import PdfFileMerger\n",
        "\n",
        "%cd /content/drive/MyDrive/3-2/기계학습/\n",
        "pdfs = ['l2-clustering-nlp.pdf','l2-clustering-textdata.pdf','l2-clustering-textanalysis.pdf','l2-clustering-visualization.pdf','l2-clustering-preprocessing.pdf','l2-clustering-clusters.pdf']\n",
        "\n",
        "merger = PdfFileMerger()\n",
        "\n",
        "for pdf in pdfs:\n",
        "    merger.append(pdf)\n",
        "\n",
        "merger.write(\"l2-nlp.pdf\")\n",
        "merger.close()"
      ]
    }
  ]
}